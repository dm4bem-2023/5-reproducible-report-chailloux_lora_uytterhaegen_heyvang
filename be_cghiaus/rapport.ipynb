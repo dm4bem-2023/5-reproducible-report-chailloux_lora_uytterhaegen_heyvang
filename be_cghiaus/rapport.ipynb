{
 "cells": [
  {
   "cell_type": "code",
   "execution_count": 26,
   "metadata": {},
   "outputs": [],
   "source": [
    "import numpy as np\n",
    "import pandas as pd\n",
    "import matplotlib.pyplot as plt\n",
    "import dm4bem"
   ]
  },
  {
   "attachments": {},
   "cell_type": "markdown",
   "metadata": {},
   "source": [
    "## 1. Thermal model\n",
    "\n",
    "Firstly we draw the plan of the two-zone building :\n",
    "\n",
    "![cube](./figures/01_plan.svg)\n",
    "\n",
    "> Figure 1. Plan of the building with thermal exchanges represented"
   ]
  },
  {
   "cell_type": "code",
   "execution_count": 27,
   "metadata": {},
   "outputs": [],
   "source": [
    "h = pd.DataFrame([{'in': 8., 'out': 25}], index=['h'])  # W/(m²⋅K)\n",
    "α_wSW = 0.25    # short wave absortivity: white smooth surface\n",
    "α_gSW = 0.38    # short wave absortivity: reflective blue glass\n",
    "ε_wLW = 0.85    # long wave emmisivity: wall surface (concrete)\n",
    "ε_gLW = 0.90    # long wave emmisivity: glass pyrex\n",
    "T_ext = 0       # °C\n",
    "σ = 5.67e-8     # W/(m²⋅K⁴) Stefan-Bolzmann constant\n"
   ]
  },
  {
   "attachments": {},
   "cell_type": "markdown",
   "metadata": {},
   "source": [
    "The dimensions and surface areas of the building are:\n",
    "- $H=3 \\: \\mathrm{m}$ - height of the building;\n",
    "- $L=10 \\: \\mathrm{m}$ - lengh of the building;\n",
    "- $l= \\frac{L}{2}$ - width of the building and lengh of each zone;\n",
    "- $S_g= l \\times H$   - surface area of the glass window;\n",
    "- $S_c = S_i = 5 \\times S_g$   - surface area of the 5 (concrete, insulation and plaster) walls."
   ]
  },
  {
   "cell_type": "code",
   "execution_count": 28,
   "metadata": {},
   "outputs": [],
   "source": [
    "H = 3               # m height of the building\n",
    "L = 10              # m lengh of the building\n",
    "l = L/2              # m width of the building\n",
    "Sg = l*H         # m² surface of the glass wall\n",
    "Sc = Si = Sp = 5 * Sg    # m² surface of concrete & insulation & plaster of the 5 walls"
   ]
  },
  {
   "attachments": {},
   "cell_type": "markdown",
   "metadata": {},
   "source": [
    "We decided to choose the construction elements as in Figure 2.\n",
    "\n",
    "![cube](./figures/02_walls_window.svg)\n",
    "\n",
    "> Figure 2. Architecture of the walls and the window"
   ]
  },
  {
   "attachments": {},
   "cell_type": "markdown",
   "metadata": {},
   "source": [
    "Plaster is the BA13 whose thermophysical properties were found on [this site](http://pigo.free.fr/_media/re-caracteristiques-thermiques.pdf).\n",
    "Plaster resists to humidity and acts as a thermic insulation."
   ]
  },
  {
   "cell_type": "code",
   "execution_count": 29,
   "metadata": {},
   "outputs": [
    {
     "data": {
      "text/html": [
       "<div>\n",
       "<style scoped>\n",
       "    .dataframe tbody tr th:only-of-type {\n",
       "        vertical-align: middle;\n",
       "    }\n",
       "\n",
       "    .dataframe tbody tr th {\n",
       "        vertical-align: top;\n",
       "    }\n",
       "\n",
       "    .dataframe thead th {\n",
       "        text-align: right;\n",
       "    }\n",
       "</style>\n",
       "<table border=\"1\" class=\"dataframe\">\n",
       "  <thead>\n",
       "    <tr style=\"text-align: right;\">\n",
       "      <th></th>\n",
       "      <th>Conductivity</th>\n",
       "      <th>Density</th>\n",
       "      <th>Specific heat</th>\n",
       "      <th>Thickness</th>\n",
       "      <th>Surface</th>\n",
       "    </tr>\n",
       "  </thead>\n",
       "  <tbody>\n",
       "    <tr>\n",
       "      <th>Insulation</th>\n",
       "      <td>0.027</td>\n",
       "      <td>55.0</td>\n",
       "      <td>1210</td>\n",
       "      <td>0.08</td>\n",
       "      <td>75.0</td>\n",
       "    </tr>\n",
       "    <tr>\n",
       "      <th>Concrete</th>\n",
       "      <td>1.400</td>\n",
       "      <td>2300.0</td>\n",
       "      <td>880</td>\n",
       "      <td>0.20</td>\n",
       "      <td>75.0</td>\n",
       "    </tr>\n",
       "    <tr>\n",
       "      <th>Plaster</th>\n",
       "      <td>0.250</td>\n",
       "      <td>825.0</td>\n",
       "      <td>1008</td>\n",
       "      <td>0.02</td>\n",
       "      <td>75.0</td>\n",
       "    </tr>\n",
       "    <tr>\n",
       "      <th>Window</th>\n",
       "      <td>1.400</td>\n",
       "      <td>2500.0</td>\n",
       "      <td>1210</td>\n",
       "      <td>0.04</td>\n",
       "      <td>15.0</td>\n",
       "    </tr>\n",
       "  </tbody>\n",
       "</table>\n",
       "</div>"
      ],
      "text/plain": [
       "            Conductivity  Density  Specific heat  Thickness  Surface\n",
       "Insulation         0.027     55.0           1210       0.08     75.0\n",
       "Concrete           1.400   2300.0            880       0.20     75.0\n",
       "Plaster            0.250    825.0           1008       0.02     75.0\n",
       "Window             1.400   2500.0           1210       0.04     15.0"
      ]
     },
     "execution_count": 29,
     "metadata": {},
     "output_type": "execute_result"
    }
   ],
   "source": [
    "concrete = {'Conductivity': 1.400,\n",
    "            'Density': 2300.0,\n",
    "            'Specific heat': 880,\n",
    "            'Thickness': 0.2,\n",
    "            'Surface': Sc}\n",
    "\n",
    "insulation = {'Conductivity': 0.027,\n",
    "              'Density': 55.0,\n",
    "              'Specific heat': 1210,\n",
    "              'Thickness': 0.08,\n",
    "              'Surface': Si}\n",
    "\n",
    "plaster = {'Conductivity': 0.25,\n",
    "           'Density': 825, \n",
    "           'Specific heat': 1008,\n",
    "           'Thickness': 0.02,\n",
    "           'Surface': Sp}\n",
    "\n",
    "window = {'Conductivity': 1.4,\n",
    "         'Density': 2500,\n",
    "         'Specific heat': 1210,\n",
    "         'Thickness': 0.04,\n",
    "         'Surface': Sg}\n",
    "\n",
    "wall = pd.DataFrame.from_dict({'Insulation': insulation,\n",
    "                               'Concrete': concrete,\n",
    "                               'Plaster': plaster,\n",
    "                               'Window': window},\n",
    "                              orient='index')\n",
    "wall"
   ]
  },
  {
   "attachments": {},
   "cell_type": "markdown",
   "metadata": {},
   "source": [
    "Avec ces données, nous déterminons les conductances liées à :\n",
    "- la Conduction : $G_{cd}= \\frac{\\lambda}{e}S $ , avec e l'épaisseur\n",
    "- la Convection : $G_{cv}= hS $  \n",
    "\n",
    "\n",
    "\n",
    " "
   ]
  },
  {
   "cell_type": "code",
   "execution_count": 30,
   "metadata": {},
   "outputs": [
    {
     "name": "stdout",
     "output_type": "stream",
     "text": [
      "525.0\n"
     ]
    }
   ],
   "source": [
    "# conduction\n",
    "G_cd = wall['Conductivity'] / wall['Thickness'] * wall['Surface']\n",
    "# convection\n",
    "Gw = h * wall['Surface'][0]     # wall\n",
    "Gg = h * wall['Surface'][2]     # glass\n",
    "# view factor wall-glass\n",
    "Fwg = window['Surface'] / concrete['Surface']\n",
    "# long wave radiation\n",
    "Tm = 20 + 273   # K, mean temp for radiative exchange\n",
    "\n",
    "GLW1 = 4 * σ * Tm**3 * ε_wLW / (1 - ε_wLW) * wall['Surface']['Concrete']\n",
    "GLW12 = 4 * σ * Tm**3 * Fwg * wall['Surface']['Concrete']\n",
    "GLW2 = 4 * σ * Tm**3 * ε_gLW / (1 - ε_gLW) * wall['Surface']['Window']\n",
    "\n",
    "GLW = 1 / (1 / GLW1 + 1 / GLW12 + 1 / GLW2)\n",
    "print(G_cd['Window'])"
   ]
  },
  {
   "attachments": {},
   "cell_type": "markdown",
   "metadata": {},
   "source": [
    "De plus, nous devons prendre en compte l'advection due à l'infiltration de l'air. Elle est de la forme : \n",
    "$$G_v = \\rho_a c_a \\dot{V}_a$$\n",
    "où : \n",
    "- $\\dot{V}_a$ est le débit volumétrique de l'air, m³/s;\n",
    "- $c_a$ est la capacité calorifique spécifique de l'air, J/kg·K;\n",
    "- $\\rho_a$ est la masse volumique de l'air, kg/m³\n",
    "\n",
    "Par ailleurs, le débit est fonction du TRH (taux de renouvellement horaire) de l'air, et du volume d'air dans la pièce $V_{a}$ : \n",
    "$$\\dot{V}_a = \\frac{\\mathrm{TRH}}{3600} V_a$$\n",
    "\n",
    "- $TRH = 1 /h$\n",
    "- $V_{a}=Hl^2$\n",
    "\n"
   ]
  },
  {
   "cell_type": "code",
   "execution_count": 31,
   "metadata": {},
   "outputs": [],
   "source": [
    "#air\n",
    "air = {'Density': 1.2,                      # kg/m³\n",
    "       'Specific heat': 1000}               # J/(kg·K)\n",
    "# pd.DataFrame.from_dict(air, orient='index', columns=['air'])\n",
    "pd.DataFrame(air, index=['Air'])\n",
    "# ventilation flow rate\n",
    "Va = H*(l**2)                 # m³, volume of air\n",
    "TRH = 1                     # air changes per hour\n",
    "Va_dot = TRH / 3600 * Va    # m³/s, air infiltration\n",
    "\n",
    "# ventilation & advection\n",
    "Gv = air['Density'] * air['Specific heat'] * Va_dot"
   ]
  },
  {
   "attachments": {},
   "cell_type": "markdown",
   "metadata": {},
   "source": [
    "Enfin, nous prenons en compte le rayonnement entre la vitre et les 3 murs + sol + plafond de la pièce 1, que nous allons désigner par l'indice \"5w\" (5 walls), de surface :    $$S_{5w}=3S_{g}+2 \\times l^2 $$\n",
    "Les conductances de l'échange radiatif sont de la forme : \n",
    "$$G_{g} = 4 \\sigma \\bar{T}^3 \\frac{\\varepsilon_{g}}{1 - \\varepsilon_{g}} S_{g}$$\n",
    "\n",
    "$$G_{g,5w} = 4 \\sigma \\bar{T}^3 F_{g,5w} S_{g} = 4 \\sigma \\bar{T}^3 F_{5w,g} S_{5w}$$\n",
    "\n",
    "$$G_{5w} = 4 \\sigma \\bar{T}^3 \\frac{\\varepsilon_{w}}{1 - \\varepsilon_{w}} S_{5w}$$\n",
    "\n",
    "$\\bar{T}$ désigne une température moyenne qui peut être approchée à 20°C : $\\bar{T} = 20 °C$\n",
    "$F_{g,5w}$ désigne le facteur de forme entre la vitre et les murs, définie par : $F_{g,5w} = \\frac{S_{g}}{S_{5w}}$\n",
    "\n",
    "Nous en déduisons la conductance radiative équivalente : $$G_{rad} = \\frac{1}{1/G_{g} + 1/G_{g,5w} + 1/G_{5w}}$$"
   ]
  },
  {
   "cell_type": "code",
   "execution_count": 32,
   "metadata": {},
   "outputs": [],
   "source": [
    "# 5 walls surface\n",
    "S5w = 3*Sg+2*(l**2)\n",
    "\n",
    "# view factor wall-glass\n",
    "Fwg = Sg/S5w\n",
    "\n",
    "# long wave radiation\n",
    "Tm = 20 + 273   # K, mean temp for radiative exchange\n",
    "\n",
    "\n",
    "GLW1 = 4 * σ * Tm**3 * ε_wLW / (1 - ε_wLW) * Sg\n",
    "GLW12 = 4 * σ * Tm**3 * Fwg * S5w\n",
    "GLW2 = 4 * σ * Tm**3 * ε_gLW / (1 - ε_gLW) * S5w\n",
    "\n",
    "GLW = 1 / (1 / GLW1 + 1 / GLW12 + 1 / GLW2)"
   ]
  },
  {
   "attachments": {},
   "cell_type": "markdown",
   "metadata": {},
   "source": [
    "Après les conductances, calculons les capacités, de la forme : $$ C_w= m_w c_w= \\rho_w c_w e_w S_w    ,mur $$ \n",
    "$$C_a = m_a c_a = \\rho_a c_a V_a , air$$"
   ]
  },
  {
   "cell_type": "code",
   "execution_count": 56,
   "metadata": {},
   "outputs": [
    {
     "name": "stdout",
     "output_type": "stream",
     "text": [
      "90000.0\n",
      "30360000.0\n"
     ]
    }
   ],
   "source": [
    "C = wall['Density'] * wall['Specific heat'] * wall['Surface'] * wall['Thickness']\n",
    "C['Air'] = air['Density'] * air['Specific heat'] * Va\n",
    "pd.DataFrame(C, columns=['Capacity'])\n",
    "print(C['Air'])\n",
    "print(C['Concrete'])"
   ]
  },
  {
   "attachments": {},
   "cell_type": "markdown",
   "metadata": {},
   "source": [
    "Nous prendreons un controlleur proportionnel de gain $K_p = 1000$ , en effet une valeur élevée de celui-ci permet d'assurer la convergence vers la température souhaitée   $T_{i,sp}=20 °C$"
   ]
  },
  {
   "cell_type": "code",
   "execution_count": 34,
   "metadata": {},
   "outputs": [],
   "source": [
    "Kp=1000\n",
    "T_isp=20+273"
   ]
  },
  {
   "attachments": {},
   "cell_type": "markdown",
   "metadata": {},
   "source": [
    "Les flux de chaleur sont de 3 types : \n",
    "- solaire absorbé par les murs extérieurs : $\\Phi_{o} = \\alpha_{SW} S_w E_{tot}$ et $\\Phi_a$ pour la vitre\n",
    "- solaire absorbé par les murs intérieurs : $ \\Phi_{i} = S E $\n",
    "- flux internes (habitants, équipement électrique) : $\\dot{Q}_a$\n",
    "\n",
    "où $E$ et $E_{tot}$ désignent l'irradiance solaire reçue\n",
    "\n",
    "Par simplification, nous considérerons $\\Phi_{o}=\\Phi_{i}=\\Phi_a=\\dot{Q}_a=1$"
   ]
  },
  {
   "cell_type": "code",
   "execution_count": 35,
   "metadata": {},
   "outputs": [],
   "source": [
    "Phi_o=1\n",
    "Phi_i=1\n",
    "Phi_a=1\n",
    "Q_a=1"
   ]
  },
  {
   "attachments": {},
   "cell_type": "markdown",
   "metadata": {},
   "source": [
    "Maintenant que nous avons l'architecture et les paramètres thermiques, un schéma électrique équivalent est réalisable\n",
    "\n",
    "![cube](./figures/03_electric_scheme.svg)"
   ]
  },
  {
   "attachments": {},
   "cell_type": "markdown",
   "metadata": {},
   "source": [
    "Nous allons mettre en équation ce circuit, pour cela commençons par numéroter les noeuds et les branches du circuit : \n",
    "![cube](./figures/04.svg)\n",
    "\n",
    "\n"
   ]
  },
  {
   "attachments": {},
   "cell_type": "markdown",
   "metadata": {},
   "source": [
    "Nous avons besoin de la matrice incidente définie comme suit : \n",
    "\n",
    "$A_{kl} = \\begin{cases}\\phantom{-}\n",
    "0 & \\text{if branch } q_k \\text{ is not connected to node }  \\theta_l \\\\ \n",
    "+1 & \\text{if branch } q_k \\text{ enters into node }  \\theta_l\\\\ \n",
    "-1 & \\text{if branch } q_k \\text{ gets out of node }  \\theta_l \n",
    "\\end{cases}$\n",
    "\n"
   ]
  },
  {
   "cell_type": "code",
   "execution_count": 36,
   "metadata": {},
   "outputs": [],
   "source": [
    "A = np.zeros([27, 22])       \n",
    "A[0, 0] = 1                 \n",
    "A[1, 0], A[1, 1] = -1, 1   \n",
    "A[2, 1], A[2, 2] = -1, 1  \n",
    "A[3, 2], A[3, 3] = -1, 1  \n",
    "A[4, 3], A[4, 4] = -1, 1   \n",
    "A[5, 4], A[5, 5] = -1, 1\n",
    "A[6, 5], A[6, 6] = -1, 1\n",
    "A[7, 6], A[7, 7] = -1, 1\n",
    "A[8, 7]=1\n",
    "A[9, 7], A[9, 8] = -1, 1\n",
    "A[10, 8], A[10, 9] = -1, 1\n",
    "A[11, 10], A[11, 9] = -1, 1\n",
    "A[12, 11], A[12, 10] = -1, 1\n",
    "A[13, 12], A[13, 11] = -1, 1\n",
    "A[14, 13], A[14, 12] = -1, 1\n",
    "A[15, 14], A[15, 13] = -1, 1\n",
    "A[16, 14]=1\n",
    "A[17, 15], A[17, 12] = -1, 1\n",
    "A[18, 15], A[18, 11] = -1, 1\n",
    "A[19, 16], A[19, 15] = -1, 1\n",
    "A[20, 17], A[20, 16] = -1, 1\n",
    "A[21, 18], A[21, 17] = -1, 1\n",
    "A[22, 19], A[22, 18] = -1, 1\n",
    "A[23, 20], A[23, 19] = -1, 1\n",
    "A[24, 21], A[24, 20] = -1, 1\n",
    "A[25, 21]=1\n",
    "A[26,11]=1\n",
    "\n"
   ]
  },
  {
   "attachments": {},
   "cell_type": "markdown",
   "metadata": {},
   "source": [
    "Nous codons aussi les matrices des conductances G, des capacités C, ainsi que les vecteurs de température b, et de flux f"
   ]
  },
  {
   "cell_type": "code",
   "execution_count": 58,
   "metadata": {},
   "outputs": [
    {
     "ename": "IndexError",
     "evalue": "only integers, slices (`:`), ellipsis (`...`), numpy.newaxis (`None`) and integer or boolean arrays are valid indices",
     "output_type": "error",
     "traceback": [
      "\u001b[1;31m---------------------------------------------------------------------------\u001b[0m",
      "\u001b[1;31mIndexError\u001b[0m                                Traceback (most recent call last)",
      "Cell \u001b[1;32mIn[58], line 4\u001b[0m\n\u001b[0;32m      1\u001b[0m G \u001b[39m=\u001b[39m np\u001b[39m.\u001b[39mdiag(np\u001b[39m.\u001b[39mhstack(\n\u001b[0;32m      2\u001b[0m     [Gw[\u001b[39m'\u001b[39m\u001b[39mout\u001b[39m\u001b[39m'\u001b[39m], \u001b[39m2\u001b[39m \u001b[39m*\u001b[39m G_cd[\u001b[39m'\u001b[39m\u001b[39mConcrete\u001b[39m\u001b[39m'\u001b[39m], \u001b[39m2\u001b[39m \u001b[39m*\u001b[39m G_cd[\u001b[39m'\u001b[39m\u001b[39mConcrete\u001b[39m\u001b[39m'\u001b[39m], \u001b[39m2\u001b[39m \u001b[39m*\u001b[39m G_cd[\u001b[39m'\u001b[39m\u001b[39mInsulation\u001b[39m\u001b[39m'\u001b[39m], \u001b[39m2\u001b[39m \u001b[39m*\u001b[39m G_cd[\u001b[39m'\u001b[39m\u001b[39mInsulation\u001b[39m\u001b[39m'\u001b[39m],\u001b[39m2\u001b[39m \u001b[39m*\u001b[39m G_cd[\u001b[39m'\u001b[39m\u001b[39mPlaster\u001b[39m\u001b[39m'\u001b[39m],\u001b[39m2\u001b[39m \u001b[39m*\u001b[39m G_cd[\u001b[39m'\u001b[39m\u001b[39mPlaster\u001b[39m\u001b[39m'\u001b[39m],Gw[\u001b[39m'\u001b[39m\u001b[39min\u001b[39m\u001b[39m'\u001b[39m],Gv,Gw[\u001b[39m'\u001b[39m\u001b[39min\u001b[39m\u001b[39m'\u001b[39m],\u001b[39m2\u001b[39m\u001b[39m*\u001b[39mG_cd[\u001b[39m'\u001b[39m\u001b[39mPlaster\u001b[39m\u001b[39m'\u001b[39m],\u001b[39m2\u001b[39m\u001b[39m*\u001b[39mG_cd[\u001b[39m'\u001b[39m\u001b[39mPlaster\u001b[39m\u001b[39m'\u001b[39m],Gw[\u001b[39m'\u001b[39m\u001b[39min\u001b[39m\u001b[39m'\u001b[39m],Gg[\u001b[39m'\u001b[39m\u001b[39min\u001b[39m\u001b[39m'\u001b[39m],\u001b[39m2\u001b[39m\u001b[39m*\u001b[39mG_cd[\u001b[39m'\u001b[39m\u001b[39mWindow\u001b[39m\u001b[39m'\u001b[39m],\u001b[39m2\u001b[39m\u001b[39m*\u001b[39mG_cd[\u001b[39m'\u001b[39m\u001b[39mWindow\u001b[39m\u001b[39m'\u001b[39m],Gg[\u001b[39m'\u001b[39m\u001b[39mout\u001b[39m\u001b[39m'\u001b[39m],GLW,Gw[\u001b[39m'\u001b[39m\u001b[39min\u001b[39m\u001b[39m'\u001b[39m],\u001b[39m2\u001b[39m\u001b[39m*\u001b[39mG_cd[\u001b[39m'\u001b[39m\u001b[39mPlaster\u001b[39m\u001b[39m'\u001b[39m],\u001b[39m2\u001b[39m\u001b[39m*\u001b[39mG_cd[\u001b[39m'\u001b[39m\u001b[39mPlaster\u001b[39m\u001b[39m'\u001b[39m],\u001b[39m2\u001b[39m\u001b[39m*\u001b[39mG_cd[\u001b[39m'\u001b[39m\u001b[39mInsulation\u001b[39m\u001b[39m'\u001b[39m],\u001b[39m2\u001b[39m\u001b[39m*\u001b[39mG_cd[\u001b[39m'\u001b[39m\u001b[39mInsulation\u001b[39m\u001b[39m'\u001b[39m],\u001b[39m2\u001b[39m\u001b[39m*\u001b[39mG_cd[\u001b[39m'\u001b[39m\u001b[39mConcrete\u001b[39m\u001b[39m'\u001b[39m],\u001b[39m2\u001b[39m\u001b[39m*\u001b[39mG_cd[\u001b[39m'\u001b[39m\u001b[39mConcrete\u001b[39m\u001b[39m'\u001b[39m],Gw[\u001b[39m'\u001b[39m\u001b[39mout\u001b[39m\u001b[39m'\u001b[39m],Kp]))\n\u001b[1;32m----> 4\u001b[0m C \u001b[39m=\u001b[39m np\u001b[39m.\u001b[39mdiag([\u001b[39m0\u001b[39m,C[\u001b[39m'\u001b[39;49m\u001b[39mConcrete\u001b[39;49m\u001b[39m'\u001b[39;49m],\u001b[39m0\u001b[39m,C[\u001b[39m'\u001b[39m\u001b[39mInsulation\u001b[39m\u001b[39m'\u001b[39m],\u001b[39m0\u001b[39m,C[\u001b[39m'\u001b[39m\u001b[39mPlaster\u001b[39m\u001b[39m'\u001b[39m],\u001b[39m0\u001b[39m,C[\u001b[39m'\u001b[39m\u001b[39mAir\u001b[39m\u001b[39m'\u001b[39m],\u001b[39m0\u001b[39m,C[\u001b[39m'\u001b[39m\u001b[39mPlaster\u001b[39m\u001b[39m'\u001b[39m],\u001b[39m0\u001b[39m,C[\u001b[39m'\u001b[39m\u001b[39mAir\u001b[39m\u001b[39m'\u001b[39m],\u001b[39m0\u001b[39m,C[\u001b[39m'\u001b[39m\u001b[39mWindow\u001b[39m\u001b[39m'\u001b[39m],\u001b[39m0\u001b[39m,\u001b[39m0\u001b[39m,C[\u001b[39m'\u001b[39m\u001b[39mPlaster\u001b[39m\u001b[39m'\u001b[39m],\u001b[39m0\u001b[39m,C[\u001b[39m'\u001b[39m\u001b[39mInsulation\u001b[39m\u001b[39m'\u001b[39m],\u001b[39m0\u001b[39m,C[\u001b[39m'\u001b[39m\u001b[39mConcrete\u001b[39m\u001b[39m'\u001b[39m],\u001b[39m0\u001b[39m])\n",
      "\u001b[1;31mIndexError\u001b[0m: only integers, slices (`:`), ellipsis (`...`), numpy.newaxis (`None`) and integer or boolean arrays are valid indices"
     ]
    }
   ],
   "source": [
    "G = np.diag(np.hstack(\n",
    "    [Gw['out'], 2 * G_cd['Concrete'], 2 * G_cd['Concrete'], 2 * G_cd['Insulation'], 2 * G_cd['Insulation'],2 * G_cd['Plaster'],2 * G_cd['Plaster'],Gw['in'],Gv,Gw['in'],2*G_cd['Plaster'],2*G_cd['Plaster'],Gw['in'],Gg['in'],2*G_cd['Window'],2*G_cd['Window'],Gg['out'],GLW,Gw['in'],2*G_cd['Plaster'],2*G_cd['Plaster'],2*G_cd['Insulation'],2*G_cd['Insulation'],2*G_cd['Concrete'],2*G_cd['Concrete'],Gw['out'],Kp]))\n",
    "\n",
    "C = np.diag([0,C['Concrete'],0,C['Insulation'],0,C['Plaster'],0,C['Air'],0,C['Plaster'],0,C['Air'],0,C['Window'],0,0,C['Plaster'],0,C['Insulation'],0,C['Concrete'],0])\n"
   ]
  },
  {
   "cell_type": "code",
   "execution_count": 61,
   "metadata": {},
   "outputs": [],
   "source": [
    "b = np.zeros(27)        \n",
    "b[[0,8,16,25,26]] = 1\n",
    "\n",
    "f = np.zeros(22)        \n",
    "f[[0, 11, 13, 15, 21]] = 1"
   ]
  },
  {
   "attachments": {},
   "cell_type": "markdown",
   "metadata": {},
   "source": [
    "Ces matrices et vecteurs vérifient le système d'équations différentielles   sur la température: \n",
    "$$C \\dot{\\theta} = -(A^T G A) \\theta + A^T G b + f$$\n",
    "\n",
    "Nous allons donner une représentation d'état de ce système : \n",
    "$$\\left\\{\\begin{array}{rr}\n",
    "\\dot{\\theta}_s=A_s \\theta_s + B_s u\\\\ \n",
    "y = C_s \\theta_s + D_s u\n",
    "\\end{array}\\right.$$\n",
    "\n",
    "y est la sortie du système d'équations, nous souhaitons accéder aux températures des deux pièces, alors : \n",
    "$$y = [\\begin{matrix}\n",
    "0  &0  &0  &0  &0  &0 &0  &\\theta_7 &0 &0 &0 &\\theta_{11} &0 ...\n",
    "\\end{matrix}]^T$$"
   ]
  },
  {
   "cell_type": "code",
   "execution_count": 65,
   "metadata": {},
   "outputs": [
    {
     "name": "stdout",
     "output_type": "stream",
     "text": [
      "y =  [0. 0. 0. 0. 0. 0. 0. 1. 0. 0. 0. 1. 0. 0. 0. 0. 0. 0. 0. 0. 0. 0.]\n"
     ]
    }
   ],
   "source": [
    "y = np.zeros(22)         \n",
    "y[[7,11]] = 1              \n",
    "print(f'y = ', y)\n",
    "\n",
    "[As, Bs, Cs, Ds] = dm4bem.tc2ss(A, G, b, C, f, y)\n"
   ]
  },
  {
   "attachments": {},
   "cell_type": "markdown",
   "metadata": {},
   "source": [
    "Nous effectuons un test en régime permanent, dans ce cas :\n",
    "- le controlleur proportionnel est désactivé : $K_p=0$\n",
    "- les sources de chaleur sont nulles\n",
    "- on considère $T_{i,sp}=20$ et   $T_{ext}=1$"
   ]
  },
  {
   "cell_type": "code",
   "execution_count": 66,
   "metadata": {},
   "outputs": [],
   "source": [
    "f = np.zeros(22) \n",
    "b = np.zeros(27)        \n",
    "b[[0,8,16,25]] = 1\n",
    "b[26]=20"
   ]
  },
  {
   "attachments": {},
   "cell_type": "markdown",
   "metadata": {},
   "source": [
    "En régime permanent, $C \\dot{\\theta} = 0$ , le système se résout : \n",
    "$$\\theta_{ss} = (A^T G A)^{-1}(A^T G b + f)$$"
   ]
  },
  {
   "cell_type": "code",
   "execution_count": 67,
   "metadata": {},
   "outputs": [
    {
     "name": "stdout",
     "output_type": "stream",
     "text": [
      "θ = [ 1.14289465  1.39806367  1.65323268  6.94562709 12.2380215  12.38091615\n",
      " 12.5238108  12.97035658 13.91566722 14.21816662 14.52066602 15.46597666\n",
      "  9.9114231   6.43039845  2.9493738  14.40913529 14.24286272 14.07659014\n",
      "  7.91834667  1.76010319  1.46318788  1.16627257] °C\n"
     ]
    }
   ],
   "source": [
    "θ = np.linalg.inv(A.T @ G @ A) @ (A.T @ G @ b + f)\n",
    "print(f'θ = {θ} °C')"
   ]
  },
  {
   "attachments": {},
   "cell_type": "markdown",
   "metadata": {},
   "source": [
    "Si nous utilisons la représentation d'état, nous pouvons extirper seules les températures qui nous intéressent."
   ]
  },
  {
   "cell_type": "code",
   "execution_count": 68,
   "metadata": {},
   "outputs": [
    {
     "name": "stdout",
     "output_type": "stream",
     "text": [
      "u = [ 1  1  1  1 20  0  0  0  0  0]\n"
     ]
    }
   ],
   "source": [
    "bT = np.array([1, 1, 1, 1, 20])     \n",
    "fQ = np.array([0, 0, 0, 0,0])         \n",
    "u = np.hstack([bT, fQ])\n",
    "print(f'u = {u}')"
   ]
  },
  {
   "attachments": {},
   "cell_type": "markdown",
   "metadata": {},
   "source": [
    "La sortie s'obtient par la relation : \n",
    "$$y_{ss} = (-C_s A_s^{-1} B_s + D_s) u$$"
   ]
  },
  {
   "cell_type": "code",
   "execution_count": 69,
   "metadata": {},
   "outputs": [
    {
     "name": "stdout",
     "output_type": "stream",
     "text": [
      "yss = [12.97035658 15.46597666] °C\n"
     ]
    }
   ],
   "source": [
    "yss = (-Cs @ np.linalg.inv(As) @ Bs + Ds) @ u\n",
    "print(f'yss = {yss} °C')"
   ]
  },
  {
   "attachments": {},
   "cell_type": "markdown",
   "metadata": {},
   "source": [
    "Le programme fonctionne en régime permanent, testons pour finir la réponse dynamique. Les méthodes numériques utilisées sont Euler implicite et explicite."
   ]
  },
  {
   "cell_type": "code",
   "execution_count": 72,
   "metadata": {},
   "outputs": [
    {
     "name": "stdout",
     "output_type": "stream",
     "text": [
      "Time constants: \n",
      " [3.89875398e+01 9.31228162e+01 1.63648397e+03 1.75359405e+03\n",
      " 2.79253015e+03 3.75793261e+03 4.83805196e+03 1.01456015e+04\n",
      " 4.40278682e+04 4.38059806e+04] s \n",
      "\n",
      "2 x Time constants: \n",
      " [7.79750795e+01 1.86245632e+02 3.27296793e+03 3.50718811e+03\n",
      " 5.58506031e+03 7.51586521e+03 9.67610393e+03 2.02912030e+04\n",
      " 8.80557365e+04 8.76119612e+04] s \n",
      "\n",
      "Maximum time step: 77.98 s = 1.30 min\n",
      "dt = 60.0 s = 1 min\n",
      "4 * Time constants: \n",
      " [   152    372   6544   7012  11168  15028  19352  40580 175220 176108] s \n",
      "\n",
      "Settling time: 176111 s = 2935.2 min = 48.92 h = 2.04 days\n",
      "Duration = 176400.0 s\n",
      "Number of time steps = 2940\n"
     ]
    }
   ],
   "source": [
    "λ = np.linalg.eig(As)[0]    # eigenvalues of matrix As\n",
    "\n",
    "print('Time constants: \\n', -1 / λ, 's \\n')\n",
    "print('2 x Time constants: \\n', -2 / λ, 's \\n')\n",
    "dtmax = 2 * min(-1. / λ)\n",
    "print(f'Maximum time step: {dtmax:.2f} s = {dtmax / 60:.2f} min')\n",
    "\n",
    "# time step\n",
    "dt = np.floor(dtmax / 60) * 60   # s\n",
    "print(f'dt = {dt} s = {dt / 60:.0f} min')\n",
    "\n",
    "# settling time\n",
    "time_const = np.array([int(x) for x in sorted(-1 / λ)])\n",
    "print('4 * Time constants: \\n', 4 * time_const, 's \\n')\n",
    "\n",
    "t_settle = 4 * max(-1 / λ)\n",
    "print(f'Settling time: \\\n",
    "{t_settle:.0f} s = \\\n",
    "{t_settle / 60:.1f} min = \\\n",
    "{t_settle / (3600):.2f} h = \\\n",
    "{t_settle / (3600 * 24):.2f} days')\n",
    "\n",
    "# Step response\n",
    "# -------------\n",
    "# Find the next multiple of 3600 s that is larger than t_settle\n",
    "duration = np.ceil(t_settle / 3600) * 3600\n",
    "n = int(np.floor(duration / dt))    # number of time steps\n",
    "t = np.arange(0, n * dt, dt)        # time vector for n time steps\n",
    "\n",
    "print(f'Duration = {duration} s')\n",
    "print(f'Number of time steps = {n}')\n",
    "# pd.DataFrame(t, columns=['time'])\n",
    "\n",
    "u = np.zeros([10, n])                # u = [To To To Tisp Φo Φi Qa Φa]\n",
    "u[0:4, :] = 1 * np.ones([4, n])    # To = 10 for n time steps\n",
    "u[4, :] = 20 * np.ones([1, n]) \n",
    "u[5:10, :] = 1 * np.ones([5, n])\n",
    "\n",
    "# pd.DataFrame(u)\n",
    "\n",
    "n_s = As.shape[0]                      # number of state variables\n",
    "θ_exp = np.zeros([n_s, t.shape[0]])    # explicit Euler in time t\n",
    "θ_imp = np.zeros([n_s, t.shape[0]])    # implicit Euler in time t\n",
    "\n",
    "I = np.eye(n_s)                        # identity matrix\n",
    "\n",
    "for k in range(n - 1):\n",
    "    θ_exp[:, k + 1] = (I + dt * As) @\\\n",
    "        θ_exp[:, k] + dt * Bs @ u[:, k]\n",
    "    θ_imp[:, k + 1] = np.linalg.inv(I - dt * As) @\\\n",
    "        (θ_imp[:, k] + dt * Bs @ u[:, k])\n",
    "\n"
   ]
  },
  {
   "cell_type": "code",
   "execution_count": 75,
   "metadata": {},
   "outputs": [
    {
     "data": {
      "image/png": "[encoded data removed]",
      "text/plain": [
       "<Figure size 640x480 with 1 Axes>"
      ]
     },
     "metadata": {},
     "output_type": "display_data"
    }
   ],
   "source": [
    "y_exp = Cs @ θ_exp + Ds @  u\n",
    "y_imp = Cs @ θ_imp + Ds @  u\n",
    "\n",
    "fig, ax = plt.subplots()\n",
    "ax.plot(t / 3600, y_exp.T, t / 3600, y_imp.T)\n",
    "ax.set(xlabel='Time, $t$ / h',\n",
    "       ylabel='Temperatue, $θ_i$ / °C',\n",
    "       title='Step input: outdoor temperature $T_o$')\n",
    "ax.legend(['Explicit', 'Implicit'])\n",
    "ax.grid()\n",
    "plt.show()"
   ]
  }
 ],
 "metadata": {
  "kernelspec": {
   "display_name": "Python 3",
   "language": "python",
   "name": "python3"
  },
  "language_info": {
   "codemirror_mode": {
    "name": "ipython",
    "version": 3
   },
   "file_extension": ".py",
   "mimetype": "text/x-python",
   "name": "python",
   "nbconvert_exporter": "python",
   "pygments_lexer": "ipython3",
   "version": "3.10.11"
  },
  "orig_nbformat": 4
 },
 "nbformat": 4,
 "nbformat_minor": 2
}
