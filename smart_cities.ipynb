{
 "cells": [
  {
   "cell_type": "code",
   "execution_count": 1,
   "metadata": {},
   "outputs": [],
   "source": [
    "import numpy as np\n",
    "import pandas as pd\n",
    "import matplotlib.pyplot as plt\n",
    "import dm4bem\n",
    "import tuto"
   ]
  },
  {
   "cell_type": "markdown",
   "metadata": {},
   "source": [
    "# Weather data and solar radiation on a tilted surface,\n",
    "\n",
    "Melchior CHAILLOUX ; Ulysse UYTTERHAEGEN ; Arthur HEYVANG ; Léa LORA-RUNCO  \n",
    "  \n",
    "30/05/2023\n",
    "\n",
    "## Introduction,\n",
    "\n",
    "### Objectifs,\n",
    "\n",
    "- Dessiner les plans d'un appartement\n",
    "- Choisir les hypothèses pour créer un modèle\n",
    "- Créer un modèle\n",
    "- Faire fonctionner le modèle\n",
    "- Intégrer les conditions liées à la météo\n",
    "\n",
    "\n",
    "\n",
    "## Description de l'appartement\n",
    "\n",
    "![schema_de_l'appartement](./Schemas_suite.svg)  \n",
    "Schéma de l'appartement  \n",
    "\n",
    "![schema_de_l'appartement_suite](./Schemas.svg)  \n",
    "Schéma complet de l'appartement avec les échanges thermiques  \n",
    "\n",
    "The dimensions and surface areas of the building are:\n",
    "- $H=3 \\: \\mathrm{m}$ - height of the building;\n",
    "- $L=10 \\: \\mathrm{m}$ - lengh of the building;\n",
    "- $l= \\frac{L}{2}$ - width of the building and lengh of each zone;\n",
    "- $S_g= l \\times H$   - surface area of the glass window;\n",
    "- $S_c = S_i = 5 \\times S_g$   - surface area of the 5 (concrete, insulation and plaster) walls.\n",
    "\n"
   ]
  },
  {
   "cell_type": "code",
   "execution_count": 2,
   "metadata": {},
   "outputs": [],
   "source": [
    "H = 3               # m height of the building\n",
    "L = 10              # m lengh of the building\n",
    "l = L/2              # m width of the building\n",
    "Sg = l*H         # m² surface of the glass wall\n",
    "Sc = Si = Sp = 5 * Sg    # m² surface of concrete & insulation & plaster of the 5 walls"
   ]
  },
  {
   "cell_type": "markdown",
   "metadata": {},
   "source": [
    "## Description des murs\n",
    "\n",
    "![murs_et_vitres](./mur_et_vitre.svg)  \n",
    "Vu en coupe des murs et des vitres  \n",
    "  \n",
    "Le plâtre est le BA13 dont les propriétés thermophysiques ont été trouvées sur [ce site](http://pigo.free.fr/_media/re-caracteristiques-thermiques.pdf). Le plâtre résiste à l'humidité et agit comme un isolant thermique."
   ]
  },
  {
   "cell_type": "code",
   "execution_count": 3,
   "metadata": {},
   "outputs": [
    {
     "data": {
      "text/html": [
       "<div>\n",
       "<style scoped>\n",
       "    .dataframe tbody tr th:only-of-type {\n",
       "        vertical-align: middle;\n",
       "    }\n",
       "\n",
       "    .dataframe tbody tr th {\n",
       "        vertical-align: top;\n",
       "    }\n",
       "\n",
       "    .dataframe thead th {\n",
       "        text-align: right;\n",
       "    }\n",
       "</style>\n",
       "<table border=\"1\" class=\"dataframe\">\n",
       "  <thead>\n",
       "    <tr style=\"text-align: right;\">\n",
       "      <th></th>\n",
       "      <th>Conductivity</th>\n",
       "      <th>Density</th>\n",
       "      <th>Specific heat</th>\n",
       "      <th>Thickness</th>\n",
       "      <th>Surface</th>\n",
       "    </tr>\n",
       "  </thead>\n",
       "  <tbody>\n",
       "    <tr>\n",
       "      <th>Insulation</th>\n",
       "      <td>0.027</td>\n",
       "      <td>55.0</td>\n",
       "      <td>1210</td>\n",
       "      <td>0.08</td>\n",
       "      <td>75.0</td>\n",
       "    </tr>\n",
       "    <tr>\n",
       "      <th>Concrete</th>\n",
       "      <td>1.400</td>\n",
       "      <td>2300.0</td>\n",
       "      <td>880</td>\n",
       "      <td>0.20</td>\n",
       "      <td>75.0</td>\n",
       "    </tr>\n",
       "    <tr>\n",
       "      <th>Plaster</th>\n",
       "      <td>0.250</td>\n",
       "      <td>825.0</td>\n",
       "      <td>1008</td>\n",
       "      <td>0.02</td>\n",
       "      <td>75.0</td>\n",
       "    </tr>\n",
       "    <tr>\n",
       "      <th>Window</th>\n",
       "      <td>1.400</td>\n",
       "      <td>2500.0</td>\n",
       "      <td>1210</td>\n",
       "      <td>0.04</td>\n",
       "      <td>15.0</td>\n",
       "    </tr>\n",
       "  </tbody>\n",
       "</table>\n",
       "</div>"
      ],
      "text/plain": [
       "            Conductivity  Density  Specific heat  Thickness  Surface\n",
       "Insulation         0.027     55.0           1210       0.08     75.0\n",
       "Concrete           1.400   2300.0            880       0.20     75.0\n",
       "Plaster            0.250    825.0           1008       0.02     75.0\n",
       "Window             1.400   2500.0           1210       0.04     15.0"
      ]
     },
     "execution_count": 3,
     "metadata": {},
     "output_type": "execute_result"
    }
   ],
   "source": [
    "h = pd.DataFrame([{'in': 8., 'out': 25}], index=['h'])  # W/(m²⋅K)\n",
    "α_wSW = 0.25    # short wave absortivity: white smooth surface\n",
    "α_gSW = 0.38    # short wave absortivity: reflective blue glass\n",
    "ε_wLW = 0.85    # long wave emmisivity: wall surface (concrete)\n",
    "ε_gLW = 0.90    # long wave emmisivity: glass pyrex\n",
    "T_ext = 0       # °C\n",
    "σ = 5.67e-8     # W/(m²⋅K⁴) Stefan-Bolzmann constant\n",
    "\n",
    "concrete = {'Conductivity': 1.400,\n",
    "            'Density': 2300.0,\n",
    "            'Specific heat': 880,\n",
    "            'Thickness': 0.2,\n",
    "            'Surface': Sc}\n",
    "\n",
    "insulation = {'Conductivity': 0.027,\n",
    "              'Density': 55.0,\n",
    "              'Specific heat': 1210,\n",
    "              'Thickness': 0.08,\n",
    "              'Surface': Si}\n",
    "\n",
    "plaster = {'Conductivity': 0.25,\n",
    "           'Density': 825, \n",
    "           'Specific heat': 1008,\n",
    "           'Thickness': 0.02,\n",
    "           'Surface': Sp}\n",
    "\n",
    "window = {'Conductivity': 1.4,\n",
    "         'Density': 2500,\n",
    "         'Specific heat': 1210,\n",
    "         'Thickness': 0.04,\n",
    "         'Surface': Sg}\n",
    "\n",
    "wall = pd.DataFrame.from_dict({'Insulation': insulation,\n",
    "                               'Concrete': concrete,\n",
    "                               'Plaster': plaster,\n",
    "                               'Window': window},\n",
    "                              orient='index')\n",
    "wall"
   ]
  },
  {
   "cell_type": "markdown",
   "metadata": {},
   "source": [
    "Grâce à ces données, nous trouvons les conductances et les capacités, dont les formes générales sont :\n",
    "- Conduction : $G_{cd}= \\frac{\\lambda}{e}S $ , avec e l'épaisseur\n",
    "- Convection : $G_{cv}= hS $\n",
    "- Radiatif : $G_{LW} = \\frac{1}{1/G_1 + 1/G_{1,2} + 1/G_2}$,  \n",
    "  \n",
    "avec $G_{1} = 4 \\sigma \\bar{T}^3 \\frac{\\varepsilon_w}{1 - \\varepsilon_w} S_1$ ; $G_{1,2} = 4 \\sigma \\bar{T}^3 F_{1,2} S_1 = 4 \\sigma \\bar{T}^3 F_{2,1} S_2$ ; $G_{2} = 4 \\sigma \\bar{T}^3 \\frac{\\varepsilon_g}{1 - \\varepsilon_g} S_2$ ; $\\bar{T}= 293 \\N : \\mathrm{K}$ la température moyenne, $F$ le facteur de vue ;  "
   ]
  },
  {
   "cell_type": "code",
   "execution_count": 4,
   "metadata": {},
   "outputs": [],
   "source": [
    "# conduction\n",
    "G_cd = wall['Conductivity'] / wall['Thickness'] * wall['Surface']\n",
    "# convection\n",
    "Gw = h * wall['Surface'][0]     # wall\n",
    "Gg = h * wall['Surface'][2]     # glass\n",
    "# view factor wall-glass\n",
    "Fwg = window['Surface'] / concrete['Surface']\n",
    "# long wave radiation\n",
    "Tm = 20 + 273   # K, mean temp for radiative exchange\n",
    "\n",
    "GLW1 = 4 * σ * Tm**3 * ε_wLW / (1 - ε_wLW) * wall['Surface']['Concrete']\n",
    "GLW12 = 4 * σ * Tm**3 * Fwg * wall['Surface']['Concrete']\n",
    "GLW2 = 4 * σ * Tm**3 * ε_gLW / (1 - ε_gLW) * wall['Surface']['Window']\n",
    "\n",
    "GLW = 1 / (1 / GLW1 + 1 / GLW12 + 1 / GLW2)"
   ]
  },
  {
   "cell_type": "markdown",
   "metadata": {},
   "source": [
    "## Advection due à l'infiltration de l'air  \n",
    "  \n",
    "  \n",
    "De plus, nous devons prendre en compte l'advection due à l'infiltration de l'air. Elle est de la forme : \n",
    "$$G_v = \\rho_a c_a \\dot{V}_a$$\n",
    "où : \n",
    "- $\\dot{V}_a$ est le débit volumétrique de l'air, m³/s;\n",
    "- $c_a$ est la capacité calorifique spécifique de l'air, J/kg·K;\n",
    "- $\\rho_a$ est la masse volumique de l'air, kg/m³\n",
    "\n",
    "Par ailleurs, le débit est fonction du TRH (taux de renouvellement horaire) de l'air, et du volume d'air dans la pièce $V_{a}$ : \n",
    "$$\\dot{V}_a = \\frac{\\mathrm{TRH}}{3600} V_a$$\n",
    "\n",
    "- $TRH = 1 /h$\n",
    "- $V_{a}=Hl^2$\n"
   ]
  },
  {
   "cell_type": "code",
   "execution_count": 5,
   "metadata": {},
   "outputs": [],
   "source": [
    "#air\n",
    "air = {'Density': 1.2,                      # kg/m³\n",
    "       'Specific heat': 1000}               # J/(kg·K)\n",
    "# pd.DataFrame.from_dict(air, orient='index', columns=['air'])\n",
    "pd.DataFrame(air, index=['Air'])\n",
    "# ventilation flow rate\n",
    "Va = H*(l**2)                 # m³, volume of air\n",
    "TRH = 1                     # air changes per hour\n",
    "Va_dot = TRH / 3600 * Va    # m³/s, air infiltration\n",
    "\n",
    "# ventilation & advection\n",
    "Gv = air['Density'] * air['Specific heat'] * Va_dot"
   ]
  },
  {
   "cell_type": "markdown",
   "metadata": {},
   "source": [
    "## Rayonnement\n",
    "  \n",
    "\n",
    "Enfin, nous prenons en compte le rayonnement entre la vitre et les 3 murs + sol + plafond de la pièce 1, que nous allons désigner par l'indice \"5w\" (5 walls), de surface :    $$S_{5w}=3S_{g}+2 \\times l^2 $$\n",
    "Les conductances de l'échange radiatif sont de la forme : \n",
    "$$G_{g} = 4 \\sigma \\bar{T}^3 \\frac{\\varepsilon_{g}}{1 - \\varepsilon_{g}} S_{g}$$\n",
    "\n",
    "$$G_{g,5w} = 4 \\sigma \\bar{T}^3 F_{g,5w} S_{g} = 4 \\sigma \\bar{T}^3 F_{5w,g} S_{5w}$$\n",
    "\n",
    "$$G_{5w} = 4 \\sigma \\bar{T}^3 \\frac{\\varepsilon_{w}}{1 - \\varepsilon_{w}} S_{5w}$$\n",
    "\n",
    "$\\bar{T}$ désigne une température moyenne qui peut être approchée à 20°C : $\\bar{T} = 20 °C$\n",
    "$F_{g,5w}$ désigne le facteur de forme entre la vitre et les murs, définie par : $F_{g,5w} = \\frac{S_{g}}{S_{5w}}$\n",
    "\n",
    "Nous en déduisons la conductance radiative équivalente : $$G_{rad} = \\frac{1}{1/G_{g} + 1/G_{g,5w} + 1/G_{5w}}$$"
   ]
  },
  {
   "cell_type": "code",
   "execution_count": 6,
   "metadata": {},
   "outputs": [],
   "source": [
    "# 5 walls surface\n",
    "S5w = 3*Sg+2*(l**2)\n",
    "\n",
    "# view factor wall-glass\n",
    "Fwg = Sg/S5w\n",
    "\n",
    "# long wave radiation\n",
    "Tm = 20 + 273   # K, mean temp for radiative exchange\n",
    "\n",
    "\n",
    "GLW1 = 4 * σ * Tm**3 * ε_wLW / (1 - ε_wLW) * Sg\n",
    "GLW12 = 4 * σ * Tm**3 * Fwg * S5w\n",
    "GLW2 = 4 * σ * Tm**3 * ε_gLW / (1 - ε_gLW) * S5w\n",
    "\n",
    "GLW = 1 / (1 / GLW1 + 1 / GLW12 + 1 / GLW2)"
   ]
  },
  {
   "cell_type": "markdown",
   "metadata": {},
   "source": [
    "## Conductances\n",
    "  \n",
    "\n",
    "Après les conductances, calculons les capacités, de la forme : $$ C_w= m_w c_w= \\rho_w c_w e_w S_w    ,mur $$ \n",
    "$$C_a = m_a c_a = \\rho_a c_a V_a , air$$"
   ]
  },
  {
   "cell_type": "code",
   "execution_count": 7,
   "metadata": {},
   "outputs": [
    {
     "data": {
      "text/html": [
       "<div>\n",
       "<style scoped>\n",
       "    .dataframe tbody tr th:only-of-type {\n",
       "        vertical-align: middle;\n",
       "    }\n",
       "\n",
       "    .dataframe tbody tr th {\n",
       "        vertical-align: top;\n",
       "    }\n",
       "\n",
       "    .dataframe thead th {\n",
       "        text-align: right;\n",
       "    }\n",
       "</style>\n",
       "<table border=\"1\" class=\"dataframe\">\n",
       "  <thead>\n",
       "    <tr style=\"text-align: right;\">\n",
       "      <th></th>\n",
       "      <th>Capacity</th>\n",
       "    </tr>\n",
       "  </thead>\n",
       "  <tbody>\n",
       "    <tr>\n",
       "      <th>Insulation</th>\n",
       "      <td>399300.0</td>\n",
       "    </tr>\n",
       "    <tr>\n",
       "      <th>Concrete</th>\n",
       "      <td>30360000.0</td>\n",
       "    </tr>\n",
       "    <tr>\n",
       "      <th>Plaster</th>\n",
       "      <td>1247400.0</td>\n",
       "    </tr>\n",
       "    <tr>\n",
       "      <th>Window</th>\n",
       "      <td>1815000.0</td>\n",
       "    </tr>\n",
       "    <tr>\n",
       "      <th>Air</th>\n",
       "      <td>90000.0</td>\n",
       "    </tr>\n",
       "  </tbody>\n",
       "</table>\n",
       "</div>"
      ],
      "text/plain": [
       "              Capacity\n",
       "Insulation    399300.0\n",
       "Concrete    30360000.0\n",
       "Plaster      1247400.0\n",
       "Window       1815000.0\n",
       "Air            90000.0"
      ]
     },
     "execution_count": 7,
     "metadata": {},
     "output_type": "execute_result"
    }
   ],
   "source": [
    "C = wall['Density'] * wall['Specific heat'] * wall['Surface'] * wall['Thickness']\n",
    "C['Air'] = air['Density'] * air['Specific heat'] * Va\n",
    "pd.DataFrame(C, columns={'Capacity'})"
   ]
  },
  {
   "cell_type": "markdown",
   "metadata": {},
   "source": [
    "## Flux des chaleurs\n",
    "  \n",
    "  \n",
    "Les flux de chaleur sont de 3 types : \n",
    "- solaire sur les murs extérieurs : $\\Phi_{w,out} = \\alpha_{w,SW} S_w E_{tot}$\n",
    "- solaire sur les murs intérieurs : $ \\Phi_{w,in} = S E $\n",
    "- flux internes (chauffage, habitants) : $\\Phi_h$\n",
    "\n",
    "où $E_{tot}$ représente l'irradiance solaire, on prendra $E_{tot}=$\n",
    "Nous faisons la simplification suivante : \n",
    "\n",
    "c'est le rayonnement sur les murs (extérieurs et intérieurs --> voir comment on fait pour l'intérieur) et aussi les sources auxiliaires (chauffage)"
   ]
  },
  {
   "cell_type": "markdown",
   "metadata": {},
   "source": [
    "## Schéma exact dans cette situation\n",
    "  \n",
    "\n",
    "![cube](./schema_exact.svg)"
   ]
  },
  {
   "cell_type": "markdown",
   "metadata": {},
   "source": [
    "## Les hypothèses simplificatrices\n",
    "  \n",
    "Pour simplifier le modèle en vue d'en améliorer sa compréhension, nous avons négligé plusieurs choses, la principale :  \n",
    "- les coins des murs"
   ]
  },
  {
   "cell_type": "markdown",
   "metadata": {},
   "source": [
    "## Equivalence de l'analyse thermique avec un schéma électrique  \n",
    "![shema_resistance](./schema_resistance.svg)\n",
    "Schéma de l'équivalence thermique/électrique  \n",
    "  \n",
    "La conduction thermique dans les solides est semblable à celle de l'électricité dans les conducteurs électriques. Dans un conducteur, le flux d'électricité est entraîné par une différence potentielle et le flux de chaleur l'est par la différence dans la température. En conduction électrique, la charge électrique est transportée d'un point d'un conducteur à un autre par le mouvement des électrons ; dans la conduction thermique, la chaleur est transportée d'un point du solide à un autre par la vibration des molécules du solide suite à l'augmentation d'énergie.  \n",
    "  \n",
    "  "
   ]
  },
  {
   "cell_type": "markdown",
   "metadata": {},
   "source": [
    "## Les matrices locales pour les différents équivalences\n",
    "\n",
    "![mur_et_porte](./porte_mur_milieu.svg)\n",
    "  \n",
    "  \n",
    "Nous avons pour cela la matrice suivante pour l'équivalence du mur centrale avec la porte :"
   ]
  },
  {
   "cell_type": "code",
   "execution_count": null,
   "metadata": {},
   "outputs": [],
   "source": []
  },
  {
   "cell_type": "markdown",
   "metadata": {},
   "source": [
    "![mur_et_porte](./porte_mur_milieu.svg)\n",
    "  \n",
    "  \n",
    "Nous avons pour cela la matrice suivante pour l'équivalence du mur centrale avec la porte :"
   ]
  }
 ],
 "metadata": {
  "kernelspec": {
   "display_name": "Python 3.9.13 ('base')",
   "language": "python",
   "name": "python3"
  },
  "language_info": {
   "codemirror_mode": {
    "name": "ipython",
    "version": 3
   },
   "file_extension": ".py",
   "mimetype": "text/x-python",
   "name": "python",
   "nbconvert_exporter": "python",
   "pygments_lexer": "ipython3",
   "version": "3.9.13"
  },
  "orig_nbformat": 4,
  "vscode": {
   "interpreter": {
    "hash": "ad2bdc8ecc057115af97d19610ffacc2b4e99fae6737bb82f5d7fb13d2f2c186"
   }
  }
 },
 "nbformat": 4,
 "nbformat_minor": 2
}
