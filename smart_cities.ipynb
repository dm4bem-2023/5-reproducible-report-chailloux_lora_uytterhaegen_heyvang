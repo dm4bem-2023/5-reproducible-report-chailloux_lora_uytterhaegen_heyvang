{
 "cells": [
  {
   "cell_type": "code",
   "execution_count": 7,
   "metadata": {},
   "outputs": [],
   "source": [
    "import numpy as np\n",
    "import pandas as pd\n",
    "import matplotlib.pyplot as plt\n",
    "import dm4bem\n",
    "import tuto"
   ]
  },
  {
   "cell_type": "markdown",
   "metadata": {},
   "source": [
    "# Weather data and solar radiation on a tilted surface,\n",
    "\n",
    "Melchior CHAILLOUX ; Ulysse UYTTERHAEGEN ; Arthur HEYVANG ; Léa LORA-RUNCO  \n",
    "  \n",
    "30/05/2023\n",
    "\n",
    "## Introduction,\n",
    "\n",
    "### Objectifs,\n",
    "\n",
    "- Dessiner les plans d'un appartement\n",
    "- Choisir les hypothèses pour créer un modèle\n",
    "- Créer un modèle\n",
    "- Faire fonctionner le modèle\n",
    "- Intégrer les conditions liées à la météo\n",
    "\n",
    "\n",
    "\n",
    "## Description de l'appartement\n",
    "\n",
    "![schema_de_l'appartement](./Schemas_suite.svg)  \n",
    "Schéma de l'appartement  \n",
    "\n",
    "![schema_de_l'appartement_suite](./Schemas.svg)  \n",
    "Schéma complet de l'appartement avec les échanges thermiques  \n",
    "\n",
    "The dimensions and surface areas of the building are:\n",
    "- $H=3 \\: \\mathrm{m}$ - height of the building;\n",
    "- $L=10 \\: \\mathrm{m}$ - lengh of the building;\n",
    "- $l= \\frac{L}{2}$ - width of the building and lengh of each zone;\n",
    "- $S_g= l \\times H$   - surface area of the glass window;\n",
    "- $S_c = S_i = 5 \\times S_g$   - surface area of the 5 (concrete, insulation and plaster) walls.\n",
    "\n"
   ]
  },
  {
   "cell_type": "code",
   "execution_count": 8,
   "metadata": {},
   "outputs": [],
   "source": [
    "H = 3               # m height of the building\n",
    "L = 10              # m lengh of the building\n",
    "l = L/2              # m width of the building\n",
    "Sg = l*H         # m² surface of the glass wall\n",
    "Sc = Si = Sp = 5 * Sg    # m² surface of concrete & insulation & plaster of the 5 walls"
   ]
  },
  {
   "cell_type": "markdown",
   "metadata": {},
   "source": [
    "## Description des murs\n",
    "\n",
    "![murs_et_vitres](./mur_et_vitre.svg)  \n",
    "Vu en coupe des murs et des vitres  \n",
    "  \n",
    "Le plâtre est le BA13 dont les propriétés thermophysiques ont été trouvées sur [ce site](http://pigo.free.fr/_media/re-caracteristiques-thermiques.pdf). Le plâtre résiste à l'humidité et agit comme un isolant thermique."
   ]
  },
  {
   "cell_type": "code",
   "execution_count": 9,
   "metadata": {},
   "outputs": [
    {
     "data": {
      "text/html": [
       "<div>\n",
       "<style scoped>\n",
       "    .dataframe tbody tr th:only-of-type {\n",
       "        vertical-align: middle;\n",
       "    }\n",
       "\n",
       "    .dataframe tbody tr th {\n",
       "        vertical-align: top;\n",
       "    }\n",
       "\n",
       "    .dataframe thead th {\n",
       "        text-align: right;\n",
       "    }\n",
       "</style>\n",
       "<table border=\"1\" class=\"dataframe\">\n",
       "  <thead>\n",
       "    <tr style=\"text-align: right;\">\n",
       "      <th></th>\n",
       "      <th>Conductivity</th>\n",
       "      <th>Density</th>\n",
       "      <th>Specific heat</th>\n",
       "      <th>Thickness</th>\n",
       "      <th>Surface</th>\n",
       "    </tr>\n",
       "  </thead>\n",
       "  <tbody>\n",
       "    <tr>\n",
       "      <th>Insulation</th>\n",
       "      <td>0.027</td>\n",
       "      <td>55.0</td>\n",
       "      <td>1210</td>\n",
       "      <td>0.08</td>\n",
       "      <td>75.0</td>\n",
       "    </tr>\n",
       "    <tr>\n",
       "      <th>Concrete</th>\n",
       "      <td>1.400</td>\n",
       "      <td>2300.0</td>\n",
       "      <td>880</td>\n",
       "      <td>0.20</td>\n",
       "      <td>75.0</td>\n",
       "    </tr>\n",
       "    <tr>\n",
       "      <th>Plaster</th>\n",
       "      <td>0.250</td>\n",
       "      <td>825.0</td>\n",
       "      <td>1008</td>\n",
       "      <td>0.02</td>\n",
       "      <td>75.0</td>\n",
       "    </tr>\n",
       "    <tr>\n",
       "      <th>Window</th>\n",
       "      <td>1.400</td>\n",
       "      <td>2500.0</td>\n",
       "      <td>1210</td>\n",
       "      <td>0.04</td>\n",
       "      <td>15.0</td>\n",
       "    </tr>\n",
       "  </tbody>\n",
       "</table>\n",
       "</div>"
      ],
      "text/plain": [
       "            Conductivity  Density  Specific heat  Thickness  Surface\n",
       "Insulation         0.027     55.0           1210       0.08     75.0\n",
       "Concrete           1.400   2300.0            880       0.20     75.0\n",
       "Plaster            0.250    825.0           1008       0.02     75.0\n",
       "Window             1.400   2500.0           1210       0.04     15.0"
      ]
     },
     "execution_count": 9,
     "metadata": {},
     "output_type": "execute_result"
    }
   ],
   "source": [
    "h = pd.DataFrame([{'in': 8., 'out': 25}], index=['h'])  # W/(m²⋅K)\n",
    "α_wSW = 0.25    # short wave absortivity: white smooth surface\n",
    "α_gSW = 0.38    # short wave absortivity: reflective blue glass\n",
    "ε_wLW = 0.85    # long wave emmisivity: wall surface (concrete)\n",
    "ε_gLW = 0.90    # long wave emmisivity: glass pyrex\n",
    "T_ext = 0       # °C\n",
    "σ = 5.67e-8     # W/(m²⋅K⁴) Stefan-Bolzmann constant\n",
    "\n",
    "concrete = {'Conductivity': 1.400,\n",
    "            'Density': 2300.0,\n",
    "            'Specific heat': 880,\n",
    "            'Thickness': 0.2,\n",
    "            'Surface': Sc}\n",
    "\n",
    "insulation = {'Conductivity': 0.027,\n",
    "              'Density': 55.0,\n",
    "              'Specific heat': 1210,\n",
    "              'Thickness': 0.08,\n",
    "              'Surface': Si}\n",
    "\n",
    "plaster = {'Conductivity': 0.25,\n",
    "           'Density': 825, \n",
    "           'Specific heat': 1008,\n",
    "           'Thickness': 0.02,\n",
    "           'Surface': Sp}\n",
    "\n",
    "window = {'Conductivity': 1.4,\n",
    "         'Density': 2500,\n",
    "         'Specific heat': 1210,\n",
    "         'Thickness': 0.04,\n",
    "         'Surface': Sg}\n",
    "\n",
    "wall = pd.DataFrame.from_dict({'Insulation': insulation,\n",
    "                               'Concrete': concrete,\n",
    "                               'Plaster': plaster,\n",
    "                               'Window': window},\n",
    "                              orient='index')\n",
    "wall"
   ]
  },
  {
   "cell_type": "markdown",
   "metadata": {},
   "source": [
    "Grâce à ces données, nous trouvons les conductances et les capacités, dont les formes générales sont :\n",
    "- Conduction : $G_{cd}= \\frac{\\lambda}{e}S $ , avec e l'épaisseur\n",
    "- Convection : $G_{cv}= hS $\n",
    "- Radiatif : $G_{LW} = \\frac{1}{1/G_1 + 1/G_{1,2} + 1/G_2}$,  \n",
    "  \n",
    "avec $G_{1} = 4 \\sigma \\bar{T}^3 \\frac{\\varepsilon_w}{1 - \\varepsilon_w} S_1$ ; $G_{1,2} = 4 \\sigma \\bar{T}^3 F_{1,2} S_1 = 4 \\sigma \\bar{T}^3 F_{2,1} S_2$ ; $G_{2} = 4 \\sigma \\bar{T}^3 \\frac{\\varepsilon_g}{1 - \\varepsilon_g} S_2$ ; $\\bar{T}= 293 \\N : \\mathrm{K}$ la température moyenne, $F$ le facteur de vue ;  "
   ]
  },
  {
   "cell_type": "code",
   "execution_count": 10,
   "metadata": {},
   "outputs": [],
   "source": [
    "# conduction\n",
    "G_cd = wall['Conductivity'] / wall['Thickness'] * wall['Surface']\n",
    "# convection\n",
    "Gw = h * wall['Surface'][0]     # wall\n",
    "Gg = h * wall['Surface'][2]     # glass\n",
    "# view factor wall-glass\n",
    "Fwg = window['Surface'] / concrete['Surface']\n",
    "# long wave radiation\n",
    "Tm = 20 + 273   # K, mean temp for radiative exchange\n",
    "\n",
    "GLW1 = 4 * σ * Tm**3 * ε_wLW / (1 - ε_wLW) * wall['Surface']['Concrete']\n",
    "GLW12 = 4 * σ * Tm**3 * Fwg * wall['Surface']['Concrete']\n",
    "GLW2 = 4 * σ * Tm**3 * ε_gLW / (1 - ε_gLW) * wall['Surface']['Window']\n",
    "\n",
    "GLW = 1 / (1 / GLW1 + 1 / GLW12 + 1 / GLW2)"
   ]
  },
  {
   "cell_type": "markdown",
   "metadata": {},
   "source": [
    "## Les hypothèses simplificatrices\n",
    "  \n",
    "Pour simplifier le modèle en vue d'en améliorer sa compréhension, nous avons négligé plusieurs choses, les principales :  \n",
    "- les coins des murs\n",
    "- les longwaves radiations\n"
   ]
  },
  {
   "cell_type": "markdown",
   "metadata": {},
   "source": [
    "## Equivalence de l'analyse thermique avec un schéma électrique  \n",
    "![shema_resistance](./schema_resistance.svg)\n",
    "Schéma de l'équivalence thermique/électrique  \n",
    "  \n",
    "La conduction thermique dans les solides est semblable à celle de l'électricité dans les conducteurs électriques. Dans un conducteur, le flux d'électricité est entraîné par une différence potentielle et le flux de chaleur l'est par la différence dans la température. En conduction électrique, la charge électrique est transportée d'un point d'un conducteur à un autre par le mouvement des électrons ; dans la conduction thermique, la chaleur est transportée d'un point du solide à un autre par la vibration des molécules du solide suite à l'augmentation d'énergie.  \n",
    "  \n",
    "  "
   ]
  },
  {
   "cell_type": "markdown",
   "metadata": {},
   "source": [
    "## Les matrices locales pour les différents équivalences\n",
    "\n",
    "![mur_et_porte](./porte_mur_milieu.svg)\n",
    "  \n",
    "  \n",
    "Nous avons pour cela la matrice suivante pour l'équivalence du mur centrale avec la porte :"
   ]
  },
  {
   "cell_type": "code",
   "execution_count": null,
   "metadata": {},
   "outputs": [],
   "source": []
  },
  {
   "cell_type": "markdown",
   "metadata": {},
   "source": [
    "![mur_et_porte](./porte_mur_milieu.svg)\n",
    "  \n",
    "  \n",
    "Nous avons pour cela la matrice suivante pour l'équivalence du mur centrale avec la porte :"
   ]
  }
 ],
 "metadata": {
  "kernelspec": {
   "display_name": "Python 3.9.13 ('base')",
   "language": "python",
   "name": "python3"
  },
  "language_info": {
   "codemirror_mode": {
    "name": "ipython",
    "version": 3
   },
   "file_extension": ".py",
   "mimetype": "text/x-python",
   "name": "python",
   "nbconvert_exporter": "python",
   "pygments_lexer": "ipython3",
   "version": "3.9.13"
  },
  "orig_nbformat": 4,
  "vscode": {
   "interpreter": {
    "hash": "ad2bdc8ecc057115af97d19610ffacc2b4e99fae6737bb82f5d7fb13d2f2c186"
   }
  }
 },
 "nbformat": 4,
 "nbformat_minor": 2
}
